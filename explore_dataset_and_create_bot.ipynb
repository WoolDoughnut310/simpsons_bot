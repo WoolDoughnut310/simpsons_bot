{
 "cells": [
  {
   "cell_type": "markdown",
   "metadata": {},
   "source": [
    "Resources:\n",
    "- https://github.com/jsvine/markovify\n",
    "- https://www.kaggle.com/pierremegret/dialogue-lines-of-the-simpsons"
   ]
  },
  {
   "cell_type": "code",
   "execution_count": 1,
   "metadata": {},
   "outputs": [],
   "source": [
    "import pandas as pd\n",
    "import json\n",
    "import zipfile\n",
    "import markovify"
   ]
  },
  {
   "cell_type": "code",
   "execution_count": 2,
   "metadata": {},
   "outputs": [],
   "source": [
    "zf = zipfile.ZipFile('./dialogue-lines-of-the-simpsons.zip') \n",
    "data = pd.read_csv(zf.open('simpsons_dataset.csv'))"
   ]
  },
  {
   "cell_type": "code",
   "execution_count": 3,
   "metadata": {},
   "outputs": [
    {
     "data": {
      "text/plain": [
       "Index(['raw_character_text', 'spoken_words'], dtype='object')"
      ]
     },
     "execution_count": 3,
     "metadata": {},
     "output_type": "execute_result"
    }
   ],
   "source": [
    "data.columns"
   ]
  },
  {
   "cell_type": "code",
   "execution_count": 4,
   "metadata": {},
   "outputs": [
    {
     "data": {
      "text/plain": [
       "Homer Simpson          29782\n",
       "Marge Simpson          14141\n",
       "Bart Simpson           13759\n",
       "Lisa Simpson           11489\n",
       "C. Montgomery Burns     3162\n",
       "Moe Szyslak             2862\n",
       "Seymour Skinner         2438\n",
       "Ned Flanders            2144\n",
       "Grampa Simpson          1880\n",
       "Milhouse Van Houten     1862\n",
       "Name: raw_character_text, dtype: int64"
      ]
     },
     "execution_count": 4,
     "metadata": {},
     "output_type": "execute_result"
    }
   ],
   "source": [
    "char_counts = data['raw_character_text'][~ pd.isnull(data['raw_character_text'])].value_counts()\n",
    "char_counts[:10]"
   ]
  },
  {
   "cell_type": "code",
   "execution_count": 5,
   "metadata": {},
   "outputs": [],
   "source": [
    "character = 'Homer Simpson'\n",
    "bot_name = 'homer_bot'"
   ]
  },
  {
   "cell_type": "code",
   "execution_count": 6,
   "metadata": {},
   "outputs": [
    {
     "data": {
      "text/html": [
       "<div>\n",
       "<style scoped>\n",
       "    .dataframe tbody tr th:only-of-type {\n",
       "        vertical-align: middle;\n",
       "    }\n",
       "\n",
       "    .dataframe tbody tr th {\n",
       "        vertical-align: top;\n",
       "    }\n",
       "\n",
       "    .dataframe thead th {\n",
       "        text-align: right;\n",
       "    }\n",
       "</style>\n",
       "<table border=\"1\" class=\"dataframe\">\n",
       "  <thead>\n",
       "    <tr style=\"text-align: right;\">\n",
       "      <th></th>\n",
       "      <th>raw_character_text</th>\n",
       "      <th>spoken_words</th>\n",
       "    </tr>\n",
       "  </thead>\n",
       "  <tbody>\n",
       "    <tr>\n",
       "      <th>57</th>\n",
       "      <td>Homer Simpson</td>\n",
       "      <td>Never thrown a party? What about that big bash...</td>\n",
       "    </tr>\n",
       "    <tr>\n",
       "      <th>58</th>\n",
       "      <td>Homer Simpson</td>\n",
       "      <td>Bart didn't get one vote?! Oh, this is the wor...</td>\n",
       "    </tr>\n",
       "    <tr>\n",
       "      <th>62</th>\n",
       "      <td>Homer Simpson</td>\n",
       "      <td>Oh.</td>\n",
       "    </tr>\n",
       "  </tbody>\n",
       "</table>\n",
       "</div>"
      ],
      "text/plain": [
       "   raw_character_text                                       spoken_words\n",
       "57      Homer Simpson  Never thrown a party? What about that big bash...\n",
       "58      Homer Simpson  Bart didn't get one vote?! Oh, this is the wor...\n",
       "62      Homer Simpson                                                Oh."
      ]
     },
     "execution_count": 6,
     "metadata": {},
     "output_type": "execute_result"
    }
   ],
   "source": [
    "data_character = data[data['raw_character_text'] == character]\n",
    "data_character = data_character[~pd.isnull(data_character)]\n",
    "data_character.head(3)"
   ]
  },
  {
   "cell_type": "code",
   "execution_count": 7,
   "metadata": {},
   "outputs": [
    {
     "data": {
      "text/plain": [
       ".    16471\n",
       "!     6110\n",
       "?     4586\n",
       "0     1932\n",
       "\"      343\n",
       "-      230\n",
       "/       15\n",
       ":       11\n",
       "Y       10\n",
       "E        8\n",
       "O        6\n",
       ",        5\n",
       "t        5\n",
       "'        5\n",
       "D        4\n",
       "N        4\n",
       "S        3\n",
       "n        3\n",
       "         3\n",
       "L        3\n",
       "G        3\n",
       "y        2\n",
       "7        2\n",
       "r        2\n",
       "h        2\n",
       "H        2\n",
       "o        1\n",
       "1        1\n",
       "A        1\n",
       "e        1\n",
       "T        1\n",
       "m        1\n",
       "w        1\n",
       "X        1\n",
       "K        1\n",
       "I        1\n",
       "R        1\n",
       "W        1\n",
       "dtype: int64"
      ]
     },
     "execution_count": 7,
     "metadata": {},
     "output_type": "execute_result"
    }
   ],
   "source": [
    "last_chars = [c[-1] if type(c) == str else '0' for c in data_character['spoken_words'].values ]\n",
    "pd.Series(last_chars).value_counts()"
   ]
  },
  {
   "cell_type": "code",
   "execution_count": 8,
   "metadata": {},
   "outputs": [],
   "source": [
    "valid_ends = ['!', '.', '?']\n",
    "valids = [c in valid_ends for c in last_chars]"
   ]
  },
  {
   "cell_type": "code",
   "execution_count": 9,
   "metadata": {},
   "outputs": [],
   "source": [
    "valid_character = data_character[valids]['spoken_words'].values"
   ]
  },
  {
   "cell_type": "code",
   "execution_count": 10,
   "metadata": {},
   "outputs": [],
   "source": [
    "text_chracter = ' '.join(list(valid_character))"
   ]
  },
  {
   "cell_type": "code",
   "execution_count": 11,
   "metadata": {},
   "outputs": [],
   "source": [
    "model = markovify.Text(text_chracter)"
   ]
  },
  {
   "cell_type": "code",
   "execution_count": 12,
   "metadata": {},
   "outputs": [
    {
     "name": "stdout",
     "output_type": "stream",
     "text": [
      "Read your town on a has-been planet orbited by a flying saucer!\n",
      "The burgers are getting sharper.\n",
      "Marge, I'm sorry -- it's my burger.\n",
      "This is for your patience!\n",
      "Well, that depends on what you think, sweetie?\n",
      "Two can play in the world like major league baseball park.\n",
      "On a beautiful thing.\n",
      "But I'm going now and receive a free car because I'm gonna tell me?\n",
      "Why scrimp now on the wrong foot.\n",
      "Agreed, but to win back a hat.\n",
      "Marge, why don't you take that back!\n",
      "...but I am that I don't know -- I'll use my inventive mind to ketchup water.\n",
      "You can't make you happy and you can watch cartoons and Lisa gonna get my lips started to move your ass.\n",
      "The wind may have a field day with this.\n",
      "It shows you've been smarter than you.\n",
      "What the heck is this, the Twilight Zone?\n",
      "You know Marge, joining the professional arm-wrestling circuit!\n",
      "To me, she's beautiful.\n",
      "Mmmm, / Mmmm, invisible cola.\n",
      "If you can find your car seat to hold down the aisle at the bar stool.\n"
     ]
    }
   ],
   "source": [
    "for i in range(20):\n",
    "    print(model.make_short_sentence(140))"
   ]
  },
  {
   "cell_type": "code",
   "execution_count": 15,
   "metadata": {},
   "outputs": [],
   "source": [
    "json_model = model.to_json()\n",
    "json.dump(json_model, open('./{}.json'.format(bot_name), 'w'))"
   ]
  },
  {
   "cell_type": "code",
   "execution_count": 16,
   "metadata": {},
   "outputs": [],
   "source": [
    "test_model = markovify.Text.from_json(json.load(open('./{}.json'.format(bot_name), 'r')))"
   ]
  },
  {
   "cell_type": "code",
   "execution_count": 17,
   "metadata": {},
   "outputs": [
    {
     "name": "stdout",
     "output_type": "stream",
     "text": [
      "I'm thinking about that mini-van I rented that plane.\n",
      "C'mon, help me figure this out!\n",
      "You're not even for one of these guys lost the Civil Rights Act.\n",
      "Oh Lord, protect this rocket house and got rid of that one right now in the blue.\n",
      "I don't know what Schadenfreude is.\n",
      "Oh Barney, that's great.\n",
      "The Olympics have preempted my favorite song now.\n",
      "Well, you should let me give you your nanny, and to prove anything that's even remotely true.\n",
      "It'll follow me to the square roots of any more!\n",
      "Um, Marge, I have to make it any less true.\n"
     ]
    }
   ],
   "source": [
    "for i in range(10):\n",
    "    print(test_model.make_short_sentence(280))"
   ]
  }
 ],
 "metadata": {
  "kernelspec": {
   "display_name": "Python 3",
   "language": "python",
   "name": "python3"
  },
  "language_info": {
   "codemirror_mode": {
    "name": "ipython",
    "version": 3
   },
   "file_extension": ".py",
   "mimetype": "text/x-python",
   "name": "python",
   "nbconvert_exporter": "python",
   "pygments_lexer": "ipython3",
   "version": "3.7.6"
  }
 },
 "nbformat": 4,
 "nbformat_minor": 2
}
