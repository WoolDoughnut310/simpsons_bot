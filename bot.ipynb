{
 "cells": [
  {
   "cell_type": "markdown",
   "metadata": {},
   "source": [
    "Resources:\n",
    "- https://github.com/jsvine/markovify\n"
   ]
  },
  {
   "cell_type": "code",
   "execution_count": 2,
   "metadata": {},
   "outputs": [],
   "source": [
    "import numpy as np\n",
    "import pandas as pd\n",
    "import json"
   ]
  },
  {
   "cell_type": "code",
   "execution_count": 3,
   "metadata": {},
   "outputs": [],
   "source": [
    "import markovify"
   ]
  },
  {
   "cell_type": "code",
   "execution_count": 4,
   "metadata": {},
   "outputs": [],
   "source": [
    "data = pd.read_csv('./simpsons_dataset.csv')"
   ]
  },
  {
   "cell_type": "code",
   "execution_count": 5,
   "metadata": {},
   "outputs": [
    {
     "data": {
      "text/plain": [
       "Index(['raw_character_text', 'spoken_words'], dtype='object')"
      ]
     },
     "execution_count": 5,
     "metadata": {},
     "output_type": "execute_result"
    }
   ],
   "source": [
    "data.columns"
   ]
  },
  {
   "cell_type": "code",
   "execution_count": 6,
   "metadata": {},
   "outputs": [
    {
     "data": {
      "text/plain": [
       "Homer Simpson          29782\n",
       "Marge Simpson          14141\n",
       "Bart Simpson           13759\n",
       "Lisa Simpson           11489\n",
       "C. Montgomery Burns     3162\n",
       "Moe Szyslak             2862\n",
       "Seymour Skinner         2438\n",
       "Ned Flanders            2144\n",
       "Grampa Simpson          1880\n",
       "Milhouse Van Houten     1862\n",
       "Name: raw_character_text, dtype: int64"
      ]
     },
     "execution_count": 6,
     "metadata": {},
     "output_type": "execute_result"
    }
   ],
   "source": [
    "char_counts = data['raw_character_text'][~ pd.isnull(data['raw_character_text'])].value_counts()\n",
    "char_counts[:10]"
   ]
  },
  {
   "cell_type": "code",
   "execution_count": 66,
   "metadata": {},
   "outputs": [],
   "source": [
    "character = 'Homer Simpson'"
   ]
  },
  {
   "cell_type": "code",
   "execution_count": 67,
   "metadata": {},
   "outputs": [
    {
     "data": {
      "text/html": [
       "<div>\n",
       "<style scoped>\n",
       "    .dataframe tbody tr th:only-of-type {\n",
       "        vertical-align: middle;\n",
       "    }\n",
       "\n",
       "    .dataframe tbody tr th {\n",
       "        vertical-align: top;\n",
       "    }\n",
       "\n",
       "    .dataframe thead th {\n",
       "        text-align: right;\n",
       "    }\n",
       "</style>\n",
       "<table border=\"1\" class=\"dataframe\">\n",
       "  <thead>\n",
       "    <tr style=\"text-align: right;\">\n",
       "      <th></th>\n",
       "      <th>raw_character_text</th>\n",
       "      <th>spoken_words</th>\n",
       "    </tr>\n",
       "  </thead>\n",
       "  <tbody>\n",
       "    <tr>\n",
       "      <th>57</th>\n",
       "      <td>Homer Simpson</td>\n",
       "      <td>Never thrown a party? What about that big bash...</td>\n",
       "    </tr>\n",
       "    <tr>\n",
       "      <th>58</th>\n",
       "      <td>Homer Simpson</td>\n",
       "      <td>Bart didn't get one vote?! Oh, this is the wor...</td>\n",
       "    </tr>\n",
       "    <tr>\n",
       "      <th>62</th>\n",
       "      <td>Homer Simpson</td>\n",
       "      <td>Oh.</td>\n",
       "    </tr>\n",
       "  </tbody>\n",
       "</table>\n",
       "</div>"
      ],
      "text/plain": [
       "   raw_character_text                                       spoken_words\n",
       "57      Homer Simpson  Never thrown a party? What about that big bash...\n",
       "58      Homer Simpson  Bart didn't get one vote?! Oh, this is the wor...\n",
       "62      Homer Simpson                                                Oh."
      ]
     },
     "execution_count": 67,
     "metadata": {},
     "output_type": "execute_result"
    }
   ],
   "source": [
    "data_character = data[data['raw_character_text'] == character]\n",
    "data_character = data_character[~pd.isnull(data_character)]\n",
    "data_character.head(3)"
   ]
  },
  {
   "cell_type": "code",
   "execution_count": 68,
   "metadata": {},
   "outputs": [
    {
     "data": {
      "text/plain": [
       ".    16471\n",
       "!     6110\n",
       "?     4586\n",
       "0     1932\n",
       "\"      343\n",
       "-      230\n",
       "/       15\n",
       ":       11\n",
       "Y       10\n",
       "E        8\n",
       "O        6\n",
       "t        5\n",
       "'        5\n",
       ",        5\n",
       "D        4\n",
       "N        4\n",
       "         3\n",
       "G        3\n",
       "S        3\n",
       "n        3\n",
       "L        3\n",
       "h        2\n",
       "y        2\n",
       "r        2\n",
       "H        2\n",
       "7        2\n",
       "m        1\n",
       "1        1\n",
       "o        1\n",
       "T        1\n",
       "W        1\n",
       "R        1\n",
       "e        1\n",
       "K        1\n",
       "I        1\n",
       "X        1\n",
       "w        1\n",
       "A        1\n",
       "dtype: int64"
      ]
     },
     "execution_count": 68,
     "metadata": {},
     "output_type": "execute_result"
    }
   ],
   "source": [
    "last_chars = [c[-1] if type(c) == str else '0' for c in data_character['spoken_words'].values ]\n",
    "pd.Series(last_chars).value_counts()"
   ]
  },
  {
   "cell_type": "code",
   "execution_count": 69,
   "metadata": {},
   "outputs": [],
   "source": [
    "valid_ends = ['!', '.', '?']\n",
    "valids = [c in valid_ends for c in last_chars]"
   ]
  },
  {
   "cell_type": "code",
   "execution_count": 70,
   "metadata": {},
   "outputs": [],
   "source": [
    "valid_character = data_character[valids]['spoken_words'].values"
   ]
  },
  {
   "cell_type": "code",
   "execution_count": 71,
   "metadata": {},
   "outputs": [],
   "source": [
    "text_chracter = ' '.join(list(valid_character))"
   ]
  },
  {
   "cell_type": "code",
   "execution_count": 72,
   "metadata": {},
   "outputs": [],
   "source": [
    "model = markovify.Text(text_chracter)"
   ]
  },
  {
   "cell_type": "code",
   "execution_count": 80,
   "metadata": {},
   "outputs": [
    {
     "name": "stdout",
     "output_type": "stream",
     "text": [
      "Then I was working on a minute!\n",
      "That's all well and good, but Lisa, you're extremely depressed.\n",
      "Oh fine, I'll go back in the T-shirt game, that I bought it for!\n",
      "And here it is: 1501 East Oak.\n",
      "Bees are on strike!\n",
      "Eh, nothing we can give up the toilet!\n",
      "Ah, Homer J. Simpson.\n",
      "But I can't hear you sing karaoke.\n",
      "Hm, all right, all right, we'll go on without me.\n",
      "You scare Rod and Todd!\n",
      "I'll work harder than this?\n",
      "Will we stay one more thing - One- I should nurture you.\n",
      "And I'll... die in a place so much.\n",
      "I'm gonna give you the true meaning of college!\n",
      "Don't yell at me now!\n",
      "Anyhoo, I'll bet you could always move into my mouth till that card is at zero.\n",
      "Nah, it'd just be a helluva act break.\n",
      "Hey, Flanders, next time why don't you love it here.\n",
      "What with all the friends?\n",
      "There you are, you're welcome to stop her complaining?\n"
     ]
    }
   ],
   "source": [
    "for i in range(20):\n",
    "    print(model.make_short_sentence(140))"
   ]
  },
  {
   "cell_type": "code",
   "execution_count": 81,
   "metadata": {},
   "outputs": [],
   "source": [
    "json_model = model.to_json()\n",
    "json.dump(json_model, open('./homer.json', 'w'))"
   ]
  },
  {
   "cell_type": "code",
   "execution_count": 82,
   "metadata": {},
   "outputs": [],
   "source": [
    "test_model = markovify.Text.from_json(json.load(open('./homer.json', 'r')))"
   ]
  },
  {
   "cell_type": "code",
   "execution_count": 83,
   "metadata": {},
   "outputs": [
    {
     "name": "stdout",
     "output_type": "stream",
     "text": [
      "I'm sick of your demands.\n",
      "I'm starting to crack.\n",
      "What if I were you adopted?\n",
      "The Vikings switched the names of and then start plumbing until they go along.\n",
      "I'm so glad to be a man.\n",
      "Yeah... but it'll always live on, because we'll never be a little more of these, and one of you.\n",
      "But there was ever mean to get something to say.\n",
      "Ten hours?! We gotta get outta here?\n",
      "Not to me if she doesn't, we can work something out just because I have been gambling on pro football.\n",
      "I don't like the Leader!\n"
     ]
    }
   ],
   "source": [
    "for i in range(10):\n",
    "    print(test_model.make_short_sentence(280))"
   ]
  },
  {
   "cell_type": "code",
   "execution_count": null,
   "metadata": {},
   "outputs": [],
   "source": []
  }
 ],
 "metadata": {
  "kernelspec": {
   "display_name": "Python 3",
   "language": "python",
   "name": "python3"
  },
  "language_info": {
   "codemirror_mode": {
    "name": "ipython",
    "version": 3
   },
   "file_extension": ".py",
   "mimetype": "text/x-python",
   "name": "python",
   "nbconvert_exporter": "python",
   "pygments_lexer": "ipython3",
   "version": "3.7.6"
  }
 },
 "nbformat": 4,
 "nbformat_minor": 2
}
